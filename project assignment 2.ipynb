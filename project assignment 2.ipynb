{
 "cells": [
  {
   "cell_type": "code",
   "execution_count": 1114,
   "id": "4e9732b7",
   "metadata": {},
   "outputs": [],
   "source": [
    "#import neccessary libraries\n",
    "import selenium\n",
    "import pandas as pd\n",
    "from selenium import webdriver\n",
    "import warnings\n",
    "warnings.filterwarnings('ignore')\n",
    "from selenium.common.exceptions import StaleElementReferenceException, NoSuchElementException\n",
    "from selenium.webdriver.common.by import By\n",
    "import time"
   ]
  },
  {
   "cell_type": "code",
   "execution_count": 1226,
   "id": "f0c0f3e3",
   "metadata": {},
   "outputs": [],
   "source": [
    "#connecting webdriver\n",
    "driver = webdriver.Chrome(r\"C:\\Users\\44795\\Dropbox\\PC\\Desktop\\fliprobo projects\\chromedriver.exe\")"
   ]
  },
  {
   "cell_type": "code",
   "execution_count": 1227,
   "id": "01db7736",
   "metadata": {},
   "outputs": [],
   "source": [
    "#question one\n",
    "#pen website to be scrapped\n",
    "driver.get(\"https://www.naukri.com/\")"
   ]
  },
  {
   "cell_type": "code",
   "execution_count": 1236,
   "id": "8d3fe2cc",
   "metadata": {},
   "outputs": [],
   "source": [
    "designation = driver.find_element(By.CLASS_NAME,\"suggestor-input\")\n",
    "designation.send_keys('Data Analyst')"
   ]
  },
  {
   "cell_type": "code",
   "execution_count": 1239,
   "id": "5549e8d9",
   "metadata": {},
   "outputs": [],
   "source": [
    "location = driver.find_element(By.XPATH,\"/html/body/div/div[6]/div/div[1]/div[5]/div/div/div/input\")\n",
    "location.send_keys('Bangalore')"
   ]
  },
  {
   "cell_type": "code",
   "execution_count": 1240,
   "id": "d9316d7f",
   "metadata": {},
   "outputs": [],
   "source": [
    "search = driver.find_element(By.XPATH,\"/html/body/div/div[6]/div/div/div[6]\")\n",
    "search.click()"
   ]
  },
  {
   "cell_type": "code",
   "execution_count": 78,
   "id": "c4e22841",
   "metadata": {},
   "outputs": [],
   "source": [
    "job_title =[]\n",
    "location = []\n",
    "company_name =[]\n",
    "experience_required =[]\n"
   ]
  },
  {
   "cell_type": "code",
   "execution_count": 79,
   "id": "eea0ffe5",
   "metadata": {},
   "outputs": [],
   "source": []
  },
  {
   "cell_type": "code",
   "execution_count": 545,
   "id": "4c59c842",
   "metadata": {},
   "outputs": [],
   "source": [
    "#question_4\n",
    "driver.get('https://www.flipkart.com/')\n",
    "#connecting web browser"
   ]
  },
  {
   "cell_type": "code",
   "execution_count": 546,
   "id": "a3aede11",
   "metadata": {},
   "outputs": [],
   "source": [
    "#searhing web for sunglasses\n",
    "sunty = driver.find_element(By.CLASS_NAME,\"_3704LK\")\n",
    "sunty.send_keys('sunglasses')"
   ]
  },
  {
   "cell_type": "code",
   "execution_count": 547,
   "id": "da0024af",
   "metadata": {},
   "outputs": [],
   "source": [
    "#clicking to enter filtered products of sunglasses\n",
    "s = driver.find_element(By.CLASS_NAME,\"_34RNph\")\n",
    "s.click()"
   ]
  },
  {
   "cell_type": "code",
   "execution_count": 548,
   "id": "b525dbe7",
   "metadata": {},
   "outputs": [],
   "source": [
    "#creating empty list variable for the data\n",
    "brand =[]\n",
    "Description =[]\n",
    "price =[]"
   ]
  },
  {
   "cell_type": "code",
   "execution_count": 549,
   "id": "9ac59fae",
   "metadata": {},
   "outputs": [],
   "source": [
    "#scrapping neccessary data to the empty list variable \n",
    "brand_name = driver.find_elements(By.XPATH, '//div[@class=\"_2WkVRV\"]')\n",
    "for i in brand_name[0:40]:#picking only the first 40 items\n",
    "    brand.append(i.text)\n",
    "    \n",
    "descrip = driver.find_elements(By.XPATH,'//a[@class=\"IRpwTa\"]')\n",
    "for i in descrip[0:40]:\n",
    "    Description.append(i.text)\n",
    "Description = Description[0:40]\n",
    "\n",
    "amnt = driver.find_elements(By.XPATH, '//div[@class=\"_30jeq3\"]')\n",
    "for i in amnt[0:40]:\n",
    "    price.append(i.text)"
   ]
  },
  {
   "cell_type": "code",
   "execution_count": 551,
   "id": "043d8247",
   "metadata": {},
   "outputs": [],
   "source": [
    "#page two\n",
    "bra = []\n",
    "de = []\n",
    "pr = []\n",
    "page_2 = driver.find_element(By.CLASS_NAME, \"_2Kfbh8\")\n",
    "page_2.click()\n",
    "\n",
    "brand_name2 = driver.find_elements(By.XPATH,'//a[@class=\"IRpwTa\"]')\n",
    "for i in brand_name2[0:39]:\n",
    "    bra.append(i.text)\n",
    "    \n",
    "descrip2 = driver.find_elements(By.XPATH, '//a[@class=\"IRpwTa\"]')\n",
    "for i in descrip2[0:39]:\n",
    "    de.append(i.text)\n",
    "\n",
    "amnt2 = driver.find_elements(By.XPATH, '//div[@class=\"_30jeq3\"]')\n",
    "for i in amnt2[0:39]:\n",
    "    pr.append(i.text)\n",
    "\n",
    "#page three\n",
    "bra1 = []\n",
    "d = []\n",
    "pr1 = []\n",
    "page_three = driver.find_element(By.CLASS_NAME, \"_2Kfbh8\")\n",
    "page_three.click()\n",
    "\n",
    "brand_name3 = driver.find_elements(By.XPATH,'//a[@class=\"IRpwTa\"]')\n",
    "for i in brand_name3[0:21]:\n",
    "    d.append(i.text)\n",
    "    \n",
    "descrip3 = driver.find_elements(By.XPATH,'//div[@class=\"_2WkVRV\"]')\n",
    "for i in descrip3[0:21]:\n",
    "    bra1.append(i.text)\n",
    "\n",
    "amnt3 = driver.find_elements(By.XPATH, '//div[@class=\"_30jeq3\"]')\n",
    "for i in amnt3[0:21]:\n",
    "    pr1.append(i.text)\n",
    "\n",
    "brand_data = brand+bra+bra1\n",
    "price_data = price+pr1+pr\n",
    "description_data = Description+d+de\n",
    "\n",
    "len(brand_data),len(price_data),len(description_data)\n",
    "\n",
    "sunglasses_df = pd.DataFrame({\"Brand Name\":brand_data,\"Product Description\":description_data,\"Price\":price_data})"
   ]
  },
  {
   "cell_type": "code",
   "execution_count": 396,
   "id": "5aedcf68",
   "metadata": {},
   "outputs": [
    {
     "data": {
      "text/html": [
       "<div>\n",
       "<style scoped>\n",
       "    .dataframe tbody tr th:only-of-type {\n",
       "        vertical-align: middle;\n",
       "    }\n",
       "\n",
       "    .dataframe tbody tr th {\n",
       "        vertical-align: top;\n",
       "    }\n",
       "\n",
       "    .dataframe thead th {\n",
       "        text-align: right;\n",
       "    }\n",
       "</style>\n",
       "<table border=\"1\" class=\"dataframe\">\n",
       "  <thead>\n",
       "    <tr style=\"text-align: right;\">\n",
       "      <th></th>\n",
       "      <th>Brand Name</th>\n",
       "      <th>Product Description</th>\n",
       "      <th>Price</th>\n",
       "    </tr>\n",
       "  </thead>\n",
       "  <tbody>\n",
       "    <tr>\n",
       "      <th>0</th>\n",
       "      <td>Elligator</td>\n",
       "      <td>UV Protection, Mirrored Wayfarer Sunglasses (54)</td>\n",
       "      <td>₹179</td>\n",
       "    </tr>\n",
       "    <tr>\n",
       "      <th>1</th>\n",
       "      <td>DEIXELS</td>\n",
       "      <td>Polarized, UV Protection, Riding Glasses Wayfa...</td>\n",
       "      <td>₹218</td>\n",
       "    </tr>\n",
       "    <tr>\n",
       "      <th>2</th>\n",
       "      <td>LIZA ANGEL</td>\n",
       "      <td>Riding Glasses, Night Vision Spectacle Sunglas...</td>\n",
       "      <td>₹129</td>\n",
       "    </tr>\n",
       "    <tr>\n",
       "      <th>3</th>\n",
       "      <td>Fastrack</td>\n",
       "      <td>UV Protection Rectangular Sunglasses (Free Size)</td>\n",
       "      <td>₹489</td>\n",
       "    </tr>\n",
       "    <tr>\n",
       "      <th>4</th>\n",
       "      <td>Elligator</td>\n",
       "      <td>UV Protection Cat-eye, Retro Square, Oval, Rou...</td>\n",
       "      <td>₹149</td>\n",
       "    </tr>\n",
       "    <tr>\n",
       "      <th>...</th>\n",
       "      <td>...</td>\n",
       "      <td>...</td>\n",
       "      <td>...</td>\n",
       "    </tr>\n",
       "    <tr>\n",
       "      <th>95</th>\n",
       "      <td>Elligator</td>\n",
       "      <td>UV Protection Aviator Sunglasses (Free Size)</td>\n",
       "      <td>₹769</td>\n",
       "    </tr>\n",
       "    <tr>\n",
       "      <th>96</th>\n",
       "      <td>LIZA ANGEL</td>\n",
       "      <td>by Lenskart Polarized, UV Protection Round Sun...</td>\n",
       "      <td>₹901</td>\n",
       "    </tr>\n",
       "    <tr>\n",
       "      <th>97</th>\n",
       "      <td>Fastrack</td>\n",
       "      <td>UV Protection Aviator Sunglasses (58)</td>\n",
       "      <td>₹329</td>\n",
       "    </tr>\n",
       "    <tr>\n",
       "      <th>98</th>\n",
       "      <td>VINCENT CHASE</td>\n",
       "      <td>UV Protection Wayfarer Sunglasses (Free Size)</td>\n",
       "      <td>₹129</td>\n",
       "    </tr>\n",
       "    <tr>\n",
       "      <th>99</th>\n",
       "      <td>SRPM</td>\n",
       "      <td>UV Protection Wayfarer Sunglasses (53)</td>\n",
       "      <td>₹179</td>\n",
       "    </tr>\n",
       "  </tbody>\n",
       "</table>\n",
       "<p>100 rows × 3 columns</p>\n",
       "</div>"
      ],
      "text/plain": [
       "       Brand Name                                Product Description Price\n",
       "0       Elligator   UV Protection, Mirrored Wayfarer Sunglasses (54)  ₹179\n",
       "1         DEIXELS  Polarized, UV Protection, Riding Glasses Wayfa...  ₹218\n",
       "2      LIZA ANGEL  Riding Glasses, Night Vision Spectacle Sunglas...  ₹129\n",
       "3        Fastrack   UV Protection Rectangular Sunglasses (Free Size)  ₹489\n",
       "4       Elligator  UV Protection Cat-eye, Retro Square, Oval, Rou...  ₹149\n",
       "..            ...                                                ...   ...\n",
       "95      Elligator       UV Protection Aviator Sunglasses (Free Size)  ₹769\n",
       "96     LIZA ANGEL  by Lenskart Polarized, UV Protection Round Sun...  ₹901\n",
       "97       Fastrack              UV Protection Aviator Sunglasses (58)  ₹329\n",
       "98  VINCENT CHASE      UV Protection Wayfarer Sunglasses (Free Size)  ₹129\n",
       "99           SRPM             UV Protection Wayfarer Sunglasses (53)  ₹179\n",
       "\n",
       "[100 rows x 3 columns]"
      ]
     },
     "execution_count": 396,
     "metadata": {},
     "output_type": "execute_result"
    }
   ],
   "source": [
    "sunglasses_df"
   ]
  },
  {
   "cell_type": "code",
   "execution_count": 801,
   "id": "3a9c7f01",
   "metadata": {},
   "outputs": [],
   "source": [
    "#q5\n",
    "driver.get('https://www.flipkart.com/apple-iphone-11-black-64-gb/product-reviews/itm4e5041ba101fd?pid=MOBFWQ6BXGJCEYNY&lid=LSTMOBFWQ6BXGJCEYNYZXSHRJ&market')\n"
   ]
  },
  {
   "cell_type": "code",
   "execution_count": 677,
   "id": "249169b2",
   "metadata": {},
   "outputs": [],
   "source": [
    "rat = []\n",
    "rev_sumary= []\n",
    "full_rev =[]\n",
    "\n",
    "ratings = driver.find_elements(By.XPATH, '//div[@class=\"_3LWZlK _1BLPMq\"]')\n",
    "for i in ratings[0:10]:#picking only the first 40 items\n",
    "    rat.append(i.text)\n",
    "    \n",
    "review = driver.find_elements(By.XPATH,'//p[@class=\"_2-N8zT\"]')\n",
    "for i in review[0:10]:\n",
    "    rev_sumary.append(i.text)\n",
    "    \n",
    "full = driver.find_elements(By.XPATH,'//div[@class=\"t-ZTKy\"]')\n",
    "for i in full[0:10]:\n",
    "    full_rev.append(i.text.replace('\\n',\"\"))\n",
    "    "
   ]
  },
  {
   "cell_type": "code",
   "execution_count": 678,
   "id": "653e9e84",
   "metadata": {},
   "outputs": [],
   "source": [
    "#page2\n",
    "page_two = driver.find_element(By.CLASS_NAME, \"_1LKTO3\")\n",
    "page_two.click()\n",
    "\n",
    "r = []\n",
    "rs =[]\n",
    "fu = []\n",
    "ratings1 = driver.find_elements(By.XPATH,'//div[@class=\"_3LWZlK _1BLPMq\"]')\n",
    "for i in ratings1[0:10]:\n",
    "    r.append(i.text)\n",
    "\n",
    "review1 = driver.find_elements(By.XPATH, '//p[@class=\"_2-N8zT\"]')\n",
    "for i in review1[0:10]:\n",
    "    rs.append(i.text)\n",
    "\n",
    "full = driver.find_elements(By.XPATH, '//div[@class=\"t-ZTKy\"]')\n",
    "for i in full[0:10]:\n",
    "    fu.append(i.text.replace('\\n',''))"
   ]
  },
  {
   "cell_type": "code",
   "execution_count": 679,
   "id": "ca6c3ca8",
   "metadata": {},
   "outputs": [],
   "source": [
    "#page3\n",
    "driver.get('https://www.flipkart.com/apple-iphone-11-black-64-gb/product-reviews/itm4e5041ba101fd?pid=MOBFWQ6BXGJCEYNY&lid=LSTMOBFWQ6BXGJCEYNYZXSHRJ&market=&page=3')\n",
    "\n",
    "r1 =[]\n",
    "rs1 =[]\n",
    "fu1 = []\n",
    "\n",
    "rating2 = driver.find_elements(By.XPATH,'//div[@class=\"_3LWZlK _1BLPMq\"]')\n",
    "for i in rating2[0:10]:\n",
    "    r1.append(i.text)\n",
    "    \n",
    "review2 = driver.find_elements(By.XPATH,'//p[@class=\"_2-N8zT\"]')\n",
    "for i in review2[0:10]:\n",
    "    rs1.append(i.text)\n",
    "    \n",
    "full2 = driver.find_elements(By.XPATH, '//div[@class=\"t-ZTKy\"]')\n",
    "for i in full2[0:10]:\n",
    "    fu1.append(i.text.replace('\\n',\"\"))"
   ]
  },
  {
   "cell_type": "code",
   "execution_count": 680,
   "id": "9704c2c5",
   "metadata": {},
   "outputs": [],
   "source": [
    "#page 4\n",
    "\n",
    "driver.get('https://www.flipkart.com/apple-iphone-11-black-64-gb/product-reviews/itm4e5041ba101fd?pid=MOBFWQ6BXGJCEYNY&lid=LSTMOBFWQ6BXGJCEYNYZXSHRJ&market=&page=4')\n",
    "r2 =[]\n",
    "rs2= []\n",
    "fu2 = []\n",
    "\n",
    "rating3 = driver.find_elements(By.XPATH, '//div[@class=\"_3LWZlK _1BLPMq\"]')\n",
    "for i in rating3:\n",
    "    r2.append(i.text)\n",
    "    \n",
    "review2 = driver.find_elements(By.XPATH,'//p[@class=\"_2-N8zT\"]')\n",
    "for i in review2:\n",
    "    rs2.append(i.text)\n",
    "\n",
    "full3 = driver.find_elements(By.XPATH, '//div[@class=\"t-ZTKy\"]')\n",
    "for i in full3:\n",
    "    fu2.append(i.text.replace('\\n',''))"
   ]
  },
  {
   "cell_type": "code",
   "execution_count": 681,
   "id": "b24b4515",
   "metadata": {},
   "outputs": [],
   "source": [
    "#page 5\n",
    "driver.get('https://www.flipkart.com/apple-iphone-11-black-64-gb/product-reviews/itm4e5041ba101fd?pid=MOBFWQ6BXGJCEYNY&lid=LSTMOBFWQ6BXGJCEYNYZXSHRJ&market=&page=5')\n",
    "\n",
    "r3 =[]\n",
    "rs3= []\n",
    "fu3 = []\n",
    "rating4 = driver.find_elements(By.XPATH, '//div[@class=\"_3LWZlK _1BLPMq\"]')\n",
    "for i in rating4:\n",
    "    r3.append(i.text)\n",
    "    \n",
    "review3 = driver.find_elements(By.XPATH,'//p[@class=\"_2-N8zT\"]')\n",
    "for i in review3:\n",
    "    rs3.append(i.text)\n",
    "\n",
    "full4 = driver.find_elements(By.XPATH, '//div[@class=\"t-ZTKy\"]')\n",
    "for i in full4:\n",
    "    fu3.append(i.text.replace('\\n',''))"
   ]
  },
  {
   "cell_type": "code",
   "execution_count": 682,
   "id": "047821c3",
   "metadata": {},
   "outputs": [],
   "source": [
    "#page 6\n",
    "driver.get('https://www.flipkart.com/apple-iphone-11-black-64-gb/product-reviews/itm4e5041ba101fd?pid=MOBFWQ6BXGJCEYNY&lid=LSTMOBFWQ6BXGJCEYNYZXSHRJ&market=&page=6')\n",
    "\n",
    "r4 =[]\n",
    "rs4= []\n",
    "fu4 = []\n",
    "rating5 = driver.find_elements(By.XPATH, '//div[@class=\"_3LWZlK _1BLPMq\"]')\n",
    "for i in rating5:\n",
    "    r4.append(i.text)\n",
    "r4.insert(9,\"1\")   \n",
    "\n",
    "review4 = driver.find_elements(By.XPATH,'//p[@class=\"_2-N8zT\"]')\n",
    "for i in review4:\n",
    "    rs4.append(i.text)\n",
    "\n",
    "full5 = driver.find_elements(By.XPATH, '//div[@class=\"t-ZTKy\"]')\n",
    "for i in full5:\n",
    "    fu4.append(i.text.replace('\\n',''))"
   ]
  },
  {
   "cell_type": "code",
   "execution_count": 683,
   "id": "051c87e0",
   "metadata": {},
   "outputs": [],
   "source": [
    "#page 7\n",
    "driver.get('https://www.flipkart.com/apple-iphone-11-black-64-gb/product-reviews/itm4e5041ba101fd?pid=MOBFWQ6BXGJCEYNY&lid=LSTMOBFWQ6BXGJCEYNYZXSHRJ&market=&page=7')\n",
    "\n",
    "r5 =[]\n",
    "rs5= []\n",
    "fu5 = []\n",
    "rating6 = driver.find_elements(By.XPATH, '//div[@class=\"_3LWZlK _1BLPMq\"]')\n",
    "for i in rating6:\n",
    "    r5.append(i.text)\n",
    "r5.insert(1,\"1\")    \n",
    "review5 = driver.find_elements(By.XPATH,'//p[@class=\"_2-N8zT\"]')\n",
    "for i in review5:\n",
    "    rs5.append(i.text)\n",
    "\n",
    "full6 = driver.find_elements(By.XPATH, '//div[@class=\"t-ZTKy\"]')\n",
    "for i in full6:\n",
    "    fu5.append(i.text.replace('\\n',\"\"))"
   ]
  },
  {
   "cell_type": "code",
   "execution_count": 684,
   "id": "0cca0f4a",
   "metadata": {},
   "outputs": [],
   "source": [
    "#page 8\n",
    "driver.get('https://www.flipkart.com/apple-iphone-11-black-64-gb/product-reviews/itm4e5041ba101fd?pid=MOBFWQ6BXGJCEYNY&lid=LSTMOBFWQ6BXGJCEYNYZXSHRJ&market=&page=8')\n",
    "r6 =[]\n",
    "rs6= []\n",
    "fu6 = []\n",
    "rating7 = driver.find_elements(By.XPATH, '//div[@class=\"_3LWZlK _1BLPMq\"]')\n",
    "for i in rating7:\n",
    "    r6.append(i.text)\n",
    "    \n",
    "review6 = driver.find_elements(By.XPATH,'//p[@class=\"_2-N8zT\"]')\n",
    "for i in review6:\n",
    "    rs6.append(i.text)\n",
    "\n",
    "full7 = driver.find_elements(By.XPATH, '//div[@class=\"t-ZTKy\"]')\n",
    "for i in full7:\n",
    "    fu6.append(i.text.replace('\\n',\"\"))"
   ]
  },
  {
   "cell_type": "code",
   "execution_count": 685,
   "id": "6ddd6fc0",
   "metadata": {},
   "outputs": [],
   "source": [
    "#page 9\n",
    "driver.get('https://www.flipkart.com/apple-iphone-11-black-64-gb/product-reviews/itm4e5041ba101fd?pid=MOBFWQ6BXGJCEYNY&lid=LSTMOBFWQ6BXGJCEYNYZXSHRJ&market=&page=9')\n",
    "r7 =[]\n",
    "rs7= []\n",
    "fu7 = []\n",
    "rating8 = driver.find_elements(By.XPATH, '//div[@class=\"_3LWZlK _1BLPMq\"]')\n",
    "for i in rating8:\n",
    "    r7.append(i.text)\n",
    "    \n",
    "review7 = driver.find_elements(By.XPATH,'//p[@class=\"_2-N8zT\"]')\n",
    "for i in review7:\n",
    "    rs7.append(i.text)\n",
    "\n",
    "full8 = driver.find_elements(By.XPATH, '//div[@class=\"t-ZTKy\"]')\n",
    "for i in full8:\n",
    "    fu7.append(i.text.replace('\\n',\"\"))"
   ]
  },
  {
   "cell_type": "code",
   "execution_count": 686,
   "id": "0a7c4fa3",
   "metadata": {},
   "outputs": [],
   "source": [
    "#page 10\n",
    "driver.get('https://www.flipkart.com/apple-iphone-11-black-64-gb/product-reviews/itm4e5041ba101fd?pid=MOBFWQ6BXGJCEYNY&lid=LSTMOBFWQ6BXGJCEYNYZXSHRJ&market=&page=10')\n",
    "\n",
    "r8 =[]\n",
    "rs8= []\n",
    "fu8 = []\n",
    "rating9 = driver.find_elements(By.XPATH, '//div[@class=\"_3LWZlK _1BLPMq\"]')\n",
    "for i in rating9:\n",
    "    r8.append(i.text)\n",
    "r8.insert(8,\"1\")\n",
    "\n",
    "review8 = driver.find_elements(By.XPATH,'//p[@class=\"_2-N8zT\"]')\n",
    "for i in review8:\n",
    "    rs8.append(i.text)\n",
    "\n",
    "full9 = driver.find_elements(By.XPATH, '//div[@class=\"t-ZTKy\"]')\n",
    "for i in full9:\n",
    "    fu8.append(i.text.replace('\\n',\"\"))\n"
   ]
  },
  {
   "cell_type": "code",
   "execution_count": 688,
   "id": "7f26fa3c",
   "metadata": {},
   "outputs": [
    {
     "data": {
      "text/plain": [
       "100"
      ]
     },
     "execution_count": 688,
     "metadata": {},
     "output_type": "execute_result"
    }
   ],
   "source": [
    "#checking length of all variables\n",
    "\n",
    "len(rat),len(r1),len(r2),len(r3),len(r4),len(r5),len(r6),len(r7),len(r8)\n",
    "ratingd = rat +r+ r1 + r2 +r3 +r4+r5+r6+r7+r8\n",
    "len(ratingd)\n",
    "prod_dis = rev_sumary+rs+rs1+rs2+rs3+rs4+rs5+rs6+rs7+rs8\n",
    "len(prod_dis)\n",
    "fullrev = full_rev+fu+fu1+fu2+fu3+fu4+fu5+fu6+fu7+fu8\n",
    "len(fullrev)"
   ]
  },
  {
   "cell_type": "code",
   "execution_count": 691,
   "id": "c67df28d",
   "metadata": {},
   "outputs": [
    {
     "data": {
      "text/html": [
       "<div>\n",
       "<style scoped>\n",
       "    .dataframe tbody tr th:only-of-type {\n",
       "        vertical-align: middle;\n",
       "    }\n",
       "\n",
       "    .dataframe tbody tr th {\n",
       "        vertical-align: top;\n",
       "    }\n",
       "\n",
       "    .dataframe thead th {\n",
       "        text-align: right;\n",
       "    }\n",
       "</style>\n",
       "<table border=\"1\" class=\"dataframe\">\n",
       "  <thead>\n",
       "    <tr style=\"text-align: right;\">\n",
       "      <th></th>\n",
       "      <th>Rating</th>\n",
       "      <th>ProductDescription</th>\n",
       "      <th>Full review</th>\n",
       "    </tr>\n",
       "  </thead>\n",
       "  <tbody>\n",
       "    <tr>\n",
       "      <th>0</th>\n",
       "      <td>4</td>\n",
       "      <td>Value-for-money</td>\n",
       "      <td>Just got this iphone 11And it is most powerful...</td>\n",
       "    </tr>\n",
       "    <tr>\n",
       "      <th>1</th>\n",
       "      <td>5</td>\n",
       "      <td>Worth every penny</td>\n",
       "      <td>Smooth like butter, camera like fantabulous, s...</td>\n",
       "    </tr>\n",
       "    <tr>\n",
       "      <th>2</th>\n",
       "      <td>5</td>\n",
       "      <td>Perfect product!</td>\n",
       "      <td>Iphone is just awesome.. battery backup is ver...</td>\n",
       "    </tr>\n",
       "    <tr>\n",
       "      <th>3</th>\n",
       "      <td>5</td>\n",
       "      <td>Terrific</td>\n",
       "      <td>Really worth of money. i just love it. It is t...</td>\n",
       "    </tr>\n",
       "    <tr>\n",
       "      <th>4</th>\n",
       "      <td>5</td>\n",
       "      <td>Simply awesome</td>\n",
       "      <td>Excellent camera, good performance, no lag. Th...</td>\n",
       "    </tr>\n",
       "    <tr>\n",
       "      <th>...</th>\n",
       "      <td>...</td>\n",
       "      <td>...</td>\n",
       "      <td>...</td>\n",
       "    </tr>\n",
       "    <tr>\n",
       "      <th>95</th>\n",
       "      <td>5</td>\n",
       "      <td>Terrific</td>\n",
       "      <td>Simply AwesomeI have upgraded from iPhone 7 to...</td>\n",
       "    </tr>\n",
       "    <tr>\n",
       "      <th>96</th>\n",
       "      <td>5</td>\n",
       "      <td>Best in the market!</td>\n",
       "      <td>Damn this phone is a blast . Upgraded from and...</td>\n",
       "    </tr>\n",
       "    <tr>\n",
       "      <th>97</th>\n",
       "      <td>5</td>\n",
       "      <td>Perfect product!</td>\n",
       "      <td>Worth the money’ starting first from its perfo...</td>\n",
       "    </tr>\n",
       "    <tr>\n",
       "      <th>98</th>\n",
       "      <td>1</td>\n",
       "      <td>Absolute rubbish!</td>\n",
       "      <td>Worst product delivered by FlipkartAfter 10day...</td>\n",
       "    </tr>\n",
       "    <tr>\n",
       "      <th>99</th>\n",
       "      <td>5</td>\n",
       "      <td>Mind-blowing purchase</td>\n",
       "      <td>Flipkart honoured on time delivery, I have use...</td>\n",
       "    </tr>\n",
       "  </tbody>\n",
       "</table>\n",
       "<p>100 rows × 3 columns</p>\n",
       "</div>"
      ],
      "text/plain": [
       "   Rating     ProductDescription  \\\n",
       "0       4        Value-for-money   \n",
       "1       5      Worth every penny   \n",
       "2       5       Perfect product!   \n",
       "3       5               Terrific   \n",
       "4       5         Simply awesome   \n",
       "..    ...                    ...   \n",
       "95      5               Terrific   \n",
       "96      5    Best in the market!   \n",
       "97      5       Perfect product!   \n",
       "98      1      Absolute rubbish!   \n",
       "99      5  Mind-blowing purchase   \n",
       "\n",
       "                                          Full review  \n",
       "0   Just got this iphone 11And it is most powerful...  \n",
       "1   Smooth like butter, camera like fantabulous, s...  \n",
       "2   Iphone is just awesome.. battery backup is ver...  \n",
       "3   Really worth of money. i just love it. It is t...  \n",
       "4   Excellent camera, good performance, no lag. Th...  \n",
       "..                                                ...  \n",
       "95  Simply AwesomeI have upgraded from iPhone 7 to...  \n",
       "96  Damn this phone is a blast . Upgraded from and...  \n",
       "97  Worth the money’ starting first from its perfo...  \n",
       "98  Worst product delivered by FlipkartAfter 10day...  \n",
       "99  Flipkart honoured on time delivery, I have use...  \n",
       "\n",
       "[100 rows x 3 columns]"
      ]
     },
     "execution_count": 691,
     "metadata": {},
     "output_type": "execute_result"
    }
   ],
   "source": [
    "iphone_df =pd.DataFrame({'Rating':ratingd,'ProductDescription':prod_dis,'Full review':fullrev})\n",
    "iphone_df"
   ]
  },
  {
   "cell_type": "code",
   "execution_count": 786,
   "id": "f830da66",
   "metadata": {},
   "outputs": [],
   "source": [
    "brN = []\n",
    "pdis = []\n",
    "price1 =[]"
   ]
  },
  {
   "cell_type": "code",
   "execution_count": 802,
   "id": "bde75a42",
   "metadata": {},
   "outputs": [],
   "source": [
    "#question 6\n",
    "#page 1 first 40 sneakers\n",
    "driver.get('https://www.flipkart.com/search?q=sneakers&otracker=search&otracker1=search&marketplace=FLIPKART&as-show=on&as=off')\n",
    "\n",
    "bn = driver.find_elements(By.XPATH, '//div[@class=\"_2WkVRV\"]')\n",
    "for i in bn[0:100]:#picking only the first 40 items\n",
    "    brN.append(i.text)\n",
    "    \n",
    "desC = driver.find_elements(By.XPATH,'//a[@class=\"IRpwTa\"]')\n",
    "for i in desC[0:100]:\n",
    "    pdis.append(i.text)\n",
    "\n",
    "\n",
    "amt1 = driver.find_elements(By.XPATH, '//div[@class=\"_30jeq3\"]')\n",
    "for i in amt1[0:40]:\n",
    "    price1.append(i.text)"
   ]
  },
  {
   "cell_type": "code",
   "execution_count": 803,
   "id": "2b017328",
   "metadata": {},
   "outputs": [],
   "source": [
    "#page 2\n",
    "brN1 = []\n",
    "pd1 = []\n",
    "price2 =[]\n",
    "driver.get('https://www.flipkart.com/search?q=sneakers&otracker=search&otracker1=search&marketplace=FLIPKART&as-show=on&as=off&page=2')\n",
    "\n",
    "bn1 = driver.find_elements(By.XPATH, '//div[@class=\"_2WkVRV\"]')\n",
    "for i in bn1[0:100]:#picking only the first 40 items\n",
    "    brN1.append(i.text)\n",
    "    \n",
    "desC1 = driver.find_elements(By.XPATH,'//a[@class=\"IRpwTa\"]')\n",
    "for i in desC1:\n",
    "    pd1.append(i.text)\n",
    "\n",
    "\n",
    "amt2 = driver.find_elements(By.XPATH, '//div[@class=\"_30jeq3\"]')\n",
    "for i in amt2[0:40]:\n",
    "    price2.append(i.text)"
   ]
  },
  {
   "cell_type": "code",
   "execution_count": 774,
   "id": "947c513f",
   "metadata": {},
   "outputs": [],
   "source": [
    "#page3\n",
    "brN2 = []\n",
    "pd2 = []\n",
    "price3 =[]\n",
    "\n",
    "driver.get('https://www.flipkart.com/search?q=sneakers&otracker=search&otracker1=search&marketplace=FLIPKART&as-show=on&as=off&page=3')\n",
    "bn2 = driver.find_elements(By.XPATH, '//div[@class=\"_2WkVRV\"]')\n",
    "for i in bn2[0:20]:#picking only the first 40 items\n",
    "    brN2.append(i.text)\n",
    "    \n",
    "desC2 = driver.find_elements(By.XPATH,'//a[@class=\"IRpwTa\"]')\n",
    "for i in desC2[0:20]:\n",
    "    pd2.append(i.text)\n",
    "\n",
    "\n",
    "amt3 = driver.find_elements(By.XPATH, '//div[@class=\"_30jeq3\"]')\n",
    "for i in amt3[0:20]:\n",
    "    price3.append(i.text)"
   ]
  },
  {
   "cell_type": "code",
   "execution_count": 795,
   "id": "a7cdf5d8",
   "metadata": {},
   "outputs": [
    {
     "data": {
      "text/plain": [
       "100"
      ]
     },
     "execution_count": 795,
     "metadata": {},
     "output_type": "execute_result"
    }
   ],
   "source": [
    "pbrand = brN +brN1+brN2\n",
    "len(pbrand)\n",
    "pdescript = pdis+pd1+pd2\n",
    "len(pdescript)\n",
    "Amount = price1+price2+price3\n",
    "len(Amount)"
   ]
  },
  {
   "cell_type": "code",
   "execution_count": 808,
   "id": "033074b7",
   "metadata": {},
   "outputs": [
    {
     "data": {
      "text/plain": [
       "77"
      ]
     },
     "execution_count": 808,
     "metadata": {},
     "output_type": "execute_result"
    }
   ],
   "source": [
    "len(pdis)"
   ]
  },
  {
   "cell_type": "code",
   "execution_count": null,
   "id": "26984472",
   "metadata": {},
   "outputs": [],
   "source": []
  },
  {
   "cell_type": "code",
   "execution_count": 799,
   "id": "b1e13e83",
   "metadata": {},
   "outputs": [
    {
     "data": {
      "text/html": [
       "<div>\n",
       "<style scoped>\n",
       "    .dataframe tbody tr th:only-of-type {\n",
       "        vertical-align: middle;\n",
       "    }\n",
       "\n",
       "    .dataframe tbody tr th {\n",
       "        vertical-align: top;\n",
       "    }\n",
       "\n",
       "    .dataframe thead th {\n",
       "        text-align: right;\n",
       "    }\n",
       "</style>\n",
       "<table border=\"1\" class=\"dataframe\">\n",
       "  <thead>\n",
       "    <tr style=\"text-align: right;\">\n",
       "      <th></th>\n",
       "      <th>Brand</th>\n",
       "      <th>Price</th>\n",
       "    </tr>\n",
       "  </thead>\n",
       "  <tbody>\n",
       "    <tr>\n",
       "      <th>0</th>\n",
       "      <td>RapidBox</td>\n",
       "      <td>₹599</td>\n",
       "    </tr>\n",
       "    <tr>\n",
       "      <th>1</th>\n",
       "      <td>K- FOOTLANCE</td>\n",
       "      <td>₹399</td>\n",
       "    </tr>\n",
       "    <tr>\n",
       "      <th>2</th>\n",
       "      <td>Labbin</td>\n",
       "      <td>₹399</td>\n",
       "    </tr>\n",
       "    <tr>\n",
       "      <th>3</th>\n",
       "      <td>Shozie</td>\n",
       "      <td>₹295</td>\n",
       "    </tr>\n",
       "    <tr>\n",
       "      <th>4</th>\n",
       "      <td>Kzaara</td>\n",
       "      <td>₹229</td>\n",
       "    </tr>\n",
       "    <tr>\n",
       "      <th>...</th>\n",
       "      <td>...</td>\n",
       "      <td>...</td>\n",
       "    </tr>\n",
       "    <tr>\n",
       "      <th>95</th>\n",
       "      <td>Creattoes</td>\n",
       "      <td>₹199</td>\n",
       "    </tr>\n",
       "    <tr>\n",
       "      <th>96</th>\n",
       "      <td>HOTSTYLE</td>\n",
       "      <td>₹449</td>\n",
       "    </tr>\n",
       "    <tr>\n",
       "      <th>97</th>\n",
       "      <td>LE GREEM</td>\n",
       "      <td>₹494</td>\n",
       "    </tr>\n",
       "    <tr>\n",
       "      <th>98</th>\n",
       "      <td>Chevit</td>\n",
       "      <td>₹478</td>\n",
       "    </tr>\n",
       "    <tr>\n",
       "      <th>99</th>\n",
       "      <td>RED TAPE</td>\n",
       "      <td>₹1,249</td>\n",
       "    </tr>\n",
       "  </tbody>\n",
       "</table>\n",
       "<p>100 rows × 2 columns</p>\n",
       "</div>"
      ],
      "text/plain": [
       "           Brand   Price\n",
       "0       RapidBox    ₹599\n",
       "1   K- FOOTLANCE    ₹399\n",
       "2         Labbin    ₹399\n",
       "3         Shozie    ₹295\n",
       "4         Kzaara    ₹229\n",
       "..           ...     ...\n",
       "95     Creattoes    ₹199\n",
       "96      HOTSTYLE    ₹449\n",
       "97      LE GREEM    ₹494\n",
       "98        Chevit    ₹478\n",
       "99      RED TAPE  ₹1,249\n",
       "\n",
       "[100 rows x 2 columns]"
      ]
     },
     "execution_count": 799,
     "metadata": {},
     "output_type": "execute_result"
    }
   ],
   "source": [
    "sneaker_df=pd.DataFrame({\"Brand\":pbrand, \"Price\":Amount})\n",
    "sneaker_df"
   ]
  },
  {
   "cell_type": "code",
   "execution_count": 1116,
   "id": "a7ab07d9",
   "metadata": {},
   "outputs": [],
   "source": [
    "driver.get('https://www.amazon.in/')"
   ]
  },
  {
   "cell_type": "code",
   "execution_count": 1117,
   "id": "660ae9fd",
   "metadata": {},
   "outputs": [],
   "source": [
    "lap = driver.find_element(By.XPATH,\"/html/body/div[1]/header/div/div[1]/div[2]/div/form/div[2]/div[1]/input\")\n",
    "lap.send_keys('laptop')"
   ]
  },
  {
   "cell_type": "code",
   "execution_count": 1118,
   "id": "963c3f32",
   "metadata": {},
   "outputs": [],
   "source": [
    "find = driver.find_element(By.XPATH,'/html/body/div[1]/header/div/div[1]/div[2]/div/form/div[3]/div/span/input')\n",
    "find.click()"
   ]
  },
  {
   "cell_type": "code",
   "execution_count": 1119,
   "id": "5e6dfe00",
   "metadata": {},
   "outputs": [],
   "source": [
    "check =driver.find_element(By.XPATH,'/html/body/div[1]/div[2]/div[1]/div[2]/div/div[3]/span/div[1]/div/div/div[6]/ul[6]/li[11]/span/a/div/label/i')\n",
    "check.click()"
   ]
  },
  {
   "cell_type": "code",
   "execution_count": 1120,
   "id": "a5253956",
   "metadata": {},
   "outputs": [],
   "source": [
    "topic = []\n",
    "r_ting =[]\n",
    "worth =[]\n",
    "\n",
    "\n",
    "title = driver.find_elements(By.XPATH, '//span[@class=\"a-size-medium a-color-base a-text-normal\"]')\n",
    "for i in title[0:100]:\n",
    "    topic.append(i.text)\n",
    "coment = driver.find_elements(By.XPATH, '//span[@class=\"a-size-base s-underline-text\"]')\n",
    "for i in coment[0:100]:\n",
    "    r_ting.append(i.text)\n",
    "    \n",
    "wo = driver.find_elements(By.XPATH,'//span[@class=\"a-price-whole\"]')\n",
    "for i in wo[0:100]:\n",
    "    worth.append(i.text)"
   ]
  },
  {
   "cell_type": "code",
   "execution_count": 1123,
   "id": "94e97126",
   "metadata": {},
   "outputs": [],
   "source": [
    "#page 2\n",
    "fin = driver.find_element(By.XPATH,'/html/body/div[1]/div[2]/div[1]/div[1]/div/span[1]/div[1]/div[29]/div/div/span/a[1]')\n",
    "fin.click()"
   ]
  },
  {
   "cell_type": "code",
   "execution_count": 1124,
   "id": "088a8ca9",
   "metadata": {},
   "outputs": [],
   "source": [
    "topic1 = []\n",
    "r_ting1 =[]\n",
    "worth1 =[]\n",
    "\n",
    "\n",
    "title1 = driver.find_elements(By.XPATH, '//span[@class=\"a-size-medium a-color-base a-text-normal\"]')\n",
    "for i in title1[0:100]:\n",
    "    topic1.append(i.text)\n",
    "coment1 = driver.find_elements(By.XPATH, '//span[@class=\"a-size-base s-underline-text\"]')\n",
    "for i in coment1[0:100]:\n",
    "    r_ting1.append(i.text)\n",
    "    \n",
    "wo1 = driver.find_elements(By.XPATH,'//span[@class=\"a-price-whole\"]')\n",
    "for i in wo1[0:100]:\n",
    "    worth1.append(i.text)"
   ]
  },
  {
   "cell_type": "code",
   "execution_count": 1126,
   "id": "db032aed",
   "metadata": {},
   "outputs": [],
   "source": [
    "fin = driver.find_element(By.XPATH,'/html/body/div[1]/div[2]/div[1]/div[1]/div/span[1]/div[1]/div[26]/div/div/span/a[3]')\n",
    "fin.click()"
   ]
  },
  {
   "cell_type": "code",
   "execution_count": 1127,
   "id": "0d48c75d",
   "metadata": {},
   "outputs": [],
   "source": [
    "#page 3\n",
    "topic2 = []\n",
    "r_ting2 =[]\n",
    "worth2 =[]\n",
    "\n",
    "\n",
    "title2 = driver.find_elements(By.XPATH, '//span[@class=\"a-size-medium a-color-base a-text-normal\"]')\n",
    "for i in title2[0:100]:\n",
    "    topic2.append(i.text)\n",
    "coment2 = driver.find_elements(By.XPATH, '//span[@class=\"a-size-base s-underline-text\"]')\n",
    "for i in coment2[0:100]:\n",
    "    r_ting2.append(i.text)\n",
    "    \n",
    "wo2 = driver.find_elements(By.XPATH,'//span[@class=\"a-price-whole\"]')\n",
    "for i in wo2[0:100]:\n",
    "    worth2.append(i.text)"
   ]
  },
  {
   "cell_type": "code",
   "execution_count": 1128,
   "id": "93a444c2",
   "metadata": {},
   "outputs": [
    {
     "data": {
      "text/plain": [
       "(30, 24, 24)"
      ]
     },
     "execution_count": 1128,
     "metadata": {},
     "output_type": "execute_result"
    }
   ],
   "source": [
    "len(topic2),len(topic1),len(topic)"
   ]
  },
  {
   "cell_type": "code",
   "execution_count": 1129,
   "id": "c8b577cc",
   "metadata": {},
   "outputs": [
    {
     "data": {
      "text/plain": [
       "(31, 23, 26)"
      ]
     },
     "execution_count": 1129,
     "metadata": {},
     "output_type": "execute_result"
    }
   ],
   "source": [
    "len(r_ting),len(r_ting1),len(r_ting2)"
   ]
  },
  {
   "cell_type": "code",
   "execution_count": 1130,
   "id": "bd78187b",
   "metadata": {},
   "outputs": [
    {
     "data": {
      "text/plain": [
       "(32, 23, 30)"
      ]
     },
     "execution_count": 1130,
     "metadata": {},
     "output_type": "execute_result"
    }
   ],
   "source": [
    "len(wo),len(wo1),len(wo2)"
   ]
  },
  {
   "cell_type": "code",
   "execution_count": 1242,
   "id": "0d8df051",
   "metadata": {},
   "outputs": [
    {
     "ename": "AttributeError",
     "evalue": "'list' object has no attribute 'click'",
     "output_type": "error",
     "traceback": [
      "\u001b[1;31m---------------------------------------------------------------------------\u001b[0m",
      "\u001b[1;31mAttributeError\u001b[0m                            Traceback (most recent call last)",
      "Input \u001b[1;32mIn [1242]\u001b[0m, in \u001b[0;36m<cell line: 3>\u001b[1;34m()\u001b[0m\n\u001b[0;32m      1\u001b[0m \u001b[38;5;66;03m#page 4\u001b[39;00m\n\u001b[0;32m      2\u001b[0m fin \u001b[38;5;241m=\u001b[39m driver\u001b[38;5;241m.\u001b[39mfind_elements(By\u001b[38;5;241m.\u001b[39mXPATH,\u001b[38;5;124m'\u001b[39m\u001b[38;5;124m/html/body/div[1]/div[2]/div[1]/div[1]/div/span[1]/div[1]/div[28]/div/div/span/a[5]\u001b[39m\u001b[38;5;124m'\u001b[39m)\n\u001b[1;32m----> 3\u001b[0m \u001b[43mfin\u001b[49m\u001b[38;5;241;43m.\u001b[39;49m\u001b[43mclick\u001b[49m()\n",
      "\u001b[1;31mAttributeError\u001b[0m: 'list' object has no attribute 'click'"
     ]
    }
   ],
   "source": [
    "#page 4\n",
    "fin = driver.find_elements(By.XPATH,'/html/body/div[1]/div[2]/div[1]/div[1]/div/span[1]/div[1]/div[28]/div/div/span/a[5]')\n",
    "fin.click()"
   ]
  },
  {
   "cell_type": "code",
   "execution_count": null,
   "id": "a3419dc6",
   "metadata": {},
   "outputs": [],
   "source": [
    "topic3 = []\n",
    "r_ting3 =[]\n",
    "worth3 =[]\n",
    "\n",
    "\n",
    "title3 = driver.find_elements(By.XPATH, '//span[@class=\"a-size-medium a-color-base a-text-normal\"]')\n",
    "for i in title3[0:10]:\n",
    "    topic3.append(i.text)\n",
    "coment3 = driver.find_elements(By.XPATH, '//span[@class=\"a-size-base s-underline-text\"]')\n",
    "for i in coment3[0:22]:\n",
    "    r_ting3.append(i.text)\n",
    "r_ting3.insert(10,\"\")   \n",
    "wo3 = driver.find_elements(By.XPATH,'//span[@class=\"a-price-whole\"]')\n",
    "for i in wo3[0:10]:\n",
    "    worth3.append(i.text)"
   ]
  },
  {
   "cell_type": "code",
   "execution_count": null,
   "id": "c1a36c5c",
   "metadata": {},
   "outputs": [],
   "source": [
    "#forming dataframe\n",
    "ltitle = topic+topic1+topic2+topic3\n",
    "lrating = r_ting+r_ting1+r_ting2+r_ting3\n",
    "lprice = worth+worth1+worth2+worth3\n",
    "\n",
    "laptop_df = pd.DataFrame({'Title':ltitle,'Rating':lrating,'Price':lprice})\n",
    "laptop_df"
   ]
  },
  {
   "cell_type": "code",
   "execution_count": null,
   "id": "17460f9c",
   "metadata": {},
   "outputs": [],
   "source": [
    "laptop_df"
   ]
  },
  {
   "cell_type": "code",
   "execution_count": 1045,
   "id": "9411cfd7",
   "metadata": {},
   "outputs": [],
   "source": [
    "driver.get('https://www.azquotes.com/')"
   ]
  },
  {
   "cell_type": "code",
   "execution_count": 1048,
   "id": "abe177f6",
   "metadata": {},
   "outputs": [],
   "source": [
    "find1 = driver.find_element(By.XPATH,'/html/body/div[1]/div[2]/div[1]/div/div[3]/ul/li[5]/a')\n",
    "find1.click()"
   ]
  },
  {
   "cell_type": "code",
   "execution_count": 1049,
   "id": "15b932dd",
   "metadata": {},
   "outputs": [],
   "source": [
    "quo =[]\n",
    "aut =[]\n",
    "typ =[]\n",
    "qt = driver.find_elements(By.XPATH,'//a[@class=\"title\"]')\n",
    "for i in qt:\n",
    "    quo.append(i.text)\n",
    "au = driver.find_elements(By.XPATH,'//div[@class=\"author\"]')\n",
    "for i in au:\n",
    "    aut.append(i.text)\n",
    "\n",
    "ty = driver.find_elements(By.XPATH,'//div[@class=\"tags\"]')\n",
    "for i in ty:\n",
    "    typ.append(i.text)"
   ]
  },
  {
   "cell_type": "code",
   "execution_count": 1050,
   "id": "ab47aabb",
   "metadata": {},
   "outputs": [],
   "source": [
    "#page 2\n",
    "find2 = driver.find_element(By.XPATH,'/html/body/div[1]/div[3]/div/div/div/div[1]/div/div[3]/li[12]/a')\n",
    "find2.click()"
   ]
  },
  {
   "cell_type": "code",
   "execution_count": 1051,
   "id": "5ee6a4f7",
   "metadata": {},
   "outputs": [],
   "source": [
    "quo1 =[]\n",
    "aut1 =[]\n",
    "typ1 =[]\n",
    "qt1 = driver.find_elements(By.XPATH,'//a[@class=\"title\"]')\n",
    "for i in qt1:\n",
    "    quo1.append(i.text)\n",
    "au1 = driver.find_elements(By.XPATH,'//div[@class=\"author\"]')\n",
    "for i in au1:\n",
    "    aut1.append(i.text)\n",
    "\n",
    "ty1 = driver.find_elements(By.XPATH,'//div[@class=\"tags\"]')\n",
    "for i in ty1:\n",
    "    typ1.append(i.text)"
   ]
  },
  {
   "cell_type": "code",
   "execution_count": 1052,
   "id": "b5e659d3",
   "metadata": {},
   "outputs": [],
   "source": [
    "#page 3\n",
    "find3 = driver.find_element(By.XPATH,'/html/body/div[1]/div[3]/div/div/div/div[1]/div/div[3]/li[13]/a')\n",
    "find3.click()"
   ]
  },
  {
   "cell_type": "code",
   "execution_count": 1053,
   "id": "eba298e3",
   "metadata": {},
   "outputs": [],
   "source": [
    "quo2 =[]\n",
    "aut2 =[]\n",
    "typ2 =[]\n",
    "qt2 = driver.find_elements(By.XPATH,'//a[@class=\"title\"]')\n",
    "for i in qt2:\n",
    "    quo2.append(i.text)\n",
    "au2 = driver.find_elements(By.XPATH,'//div[@class=\"author\"]')\n",
    "for i in au2:\n",
    "    aut2.append(i.text)\n",
    "\n",
    "ty2 = driver.find_elements(By.XPATH,'//div[@class=\"tags\"]')\n",
    "for i in ty2:\n",
    "    typ2.append(i.text)"
   ]
  },
  {
   "cell_type": "code",
   "execution_count": 1054,
   "id": "24f81492",
   "metadata": {},
   "outputs": [],
   "source": [
    "#page 4\n",
    "find4 = driver.find_element(By.XPATH,'/html/body/div[1]/div[3]/div/div/div/div[1]/div/div[3]/li[13]/a')\n",
    "find4.click()"
   ]
  },
  {
   "cell_type": "code",
   "execution_count": 1055,
   "id": "718691e4",
   "metadata": {},
   "outputs": [],
   "source": [
    "quo3 =[]\n",
    "aut3 =[]\n",
    "typ3 =[]\n",
    "qt3 = driver.find_elements(By.XPATH,'//a[@class=\"title\"]')\n",
    "for i in qt3:\n",
    "    quo3.append(i.text)\n",
    "au3 = driver.find_elements(By.XPATH,'//div[@class=\"author\"]')\n",
    "for i in au3:\n",
    "    aut3.append(i.text)\n",
    "\n",
    "ty3 = driver.find_elements(By.XPATH,'//div[@class=\"tags\"]')\n",
    "for i in ty3:\n",
    "    typ3.append(i.text)"
   ]
  },
  {
   "cell_type": "code",
   "execution_count": 1056,
   "id": "bde15980",
   "metadata": {},
   "outputs": [],
   "source": [
    "#page5\n",
    "find5 = driver.find_element(By.XPATH,'/html/body/div[1]/div[3]/div/div/div/div[1]/div/div[3]/li[13]/a')\n",
    "find5.click()"
   ]
  },
  {
   "cell_type": "code",
   "execution_count": 1057,
   "id": "389023c6",
   "metadata": {},
   "outputs": [],
   "source": [
    "quo4 =[]\n",
    "aut4 =[]\n",
    "typ4 =[]\n",
    "qt4 = driver.find_elements(By.XPATH,'//a[@class=\"title\"]')\n",
    "for i in qt4:\n",
    "    quo4.append(i.text)\n",
    "au4 = driver.find_elements(By.XPATH,'//div[@class=\"author\"]')\n",
    "for i in au4:\n",
    "    aut4.append(i.text)\n",
    "\n",
    "ty4 = driver.find_elements(By.XPATH,'//div[@class=\"tags\"]')\n",
    "for i in ty4:\n",
    "    typ4.append(i.text)"
   ]
  },
  {
   "cell_type": "code",
   "execution_count": 1058,
   "id": "ab417cb9",
   "metadata": {},
   "outputs": [],
   "source": [
    "#page 6\n",
    "find5 = driver.find_element(By.XPATH,'/html/body/div[1]/div[3]/div/div/div/div[1]/div/div[3]/li[13]/a')\n",
    "find5.click()"
   ]
  },
  {
   "cell_type": "code",
   "execution_count": 1059,
   "id": "5dd57cf3",
   "metadata": {},
   "outputs": [],
   "source": [
    "quo5 =[]\n",
    "aut5 =[]\n",
    "typ5 =[]\n",
    "qt5 = driver.find_elements(By.XPATH,'//a[@class=\"title\"]')\n",
    "for i in qt5:\n",
    "    quo5.append(i.text)\n",
    "au5 = driver.find_elements(By.XPATH,'//div[@class=\"author\"]')\n",
    "for i in au5:\n",
    "    aut5.append(i.text)\n",
    "\n",
    "ty5 = driver.find_elements(By.XPATH,'//div[@class=\"tags\"]')\n",
    "for i in ty5:\n",
    "    typ5.append(i.text)"
   ]
  },
  {
   "cell_type": "code",
   "execution_count": 1060,
   "id": "e602c808",
   "metadata": {},
   "outputs": [],
   "source": [
    "#page7\n",
    "find5 = driver.find_element(By.XPATH,'/html/body/div[1]/div[3]/div/div/div/div[1]/div/div[3]/li[13]/a')\n",
    "find5.click()"
   ]
  },
  {
   "cell_type": "code",
   "execution_count": 1061,
   "id": "ba1a7226",
   "metadata": {},
   "outputs": [],
   "source": [
    "quo6 =[]\n",
    "aut6 =[]\n",
    "typ6 =[]\n",
    "qt6 = driver.find_elements(By.XPATH,'//a[@class=\"title\"]')\n",
    "for i in qt6:\n",
    "    quo6.append(i.text)\n",
    "au6 = driver.find_elements(By.XPATH,'//div[@class=\"author\"]')\n",
    "for i in au6:\n",
    "    aut6.append(i.text)\n",
    "\n",
    "ty6 = driver.find_elements(By.XPATH,'//div[@class=\"tags\"]')\n",
    "for i in ty6:\n",
    "    typ6.append(i.text)"
   ]
  },
  {
   "cell_type": "code",
   "execution_count": 1062,
   "id": "3028ac50",
   "metadata": {},
   "outputs": [],
   "source": [
    "find5 = driver.find_element(By.XPATH,'/html/body/div[1]/div[3]/div/div/div/div[1]/div/div[3]/li[13]/a')\n",
    "find5.click()"
   ]
  },
  {
   "cell_type": "code",
   "execution_count": 1063,
   "id": "bacb81f3",
   "metadata": {},
   "outputs": [],
   "source": [
    "quo6a =[]\n",
    "aut6a =[]\n",
    "typ6a =[]\n",
    "qt6a = driver.find_elements(By.XPATH,'//a[@class=\"title\"]')\n",
    "for i in qt6a:\n",
    "    quo6a.append(i.text)\n",
    "au6a = driver.find_elements(By.XPATH,'//div[@class=\"author\"]')\n",
    "for i in au6a:\n",
    "    aut6a.append(i.text)\n",
    "\n",
    "ty6a = driver.find_elements(By.XPATH,'//div[@class=\"tags\"]')\n",
    "for i in ty6a:\n",
    "    typ6a.append(i.text)"
   ]
  },
  {
   "cell_type": "code",
   "execution_count": 1064,
   "id": "c1a18647",
   "metadata": {},
   "outputs": [],
   "source": [
    "#page 8\n",
    "find5 = driver.find_element(By.XPATH,'/html/body/div[1]/div[3]/div/div/div/div[1]/div/div[3]/li[13]/a')\n",
    "find5.click()"
   ]
  },
  {
   "cell_type": "code",
   "execution_count": 1065,
   "id": "41c2c457",
   "metadata": {},
   "outputs": [],
   "source": [
    "quo6 =[]\n",
    "aut6 =[]\n",
    "typ6 =[]\n",
    "qt6 = driver.find_elements(By.XPATH,'//a[@class=\"title\"]')\n",
    "for i in qt6:\n",
    "    quo6.append(i.text)\n",
    "au6 = driver.find_elements(By.XPATH,'//div[@class=\"author\"]')\n",
    "for i in au6:\n",
    "    aut6.append(i.text)\n",
    "\n",
    "ty6 = driver.find_elements(By.XPATH,'//div[@class=\"tags\"]')\n",
    "for i in ty6:\n",
    "    typ6.append(i.text)"
   ]
  },
  {
   "cell_type": "code",
   "execution_count": 1066,
   "id": "a2caa810",
   "metadata": {},
   "outputs": [],
   "source": [
    "#page 9\n",
    "find5 = driver.find_element(By.XPATH,'/html/body/div[1]/div[3]/div/div/div/div[1]/div/div[3]/li[13]/a')\n",
    "find5.click()"
   ]
  },
  {
   "cell_type": "code",
   "execution_count": 1067,
   "id": "a1ddd751",
   "metadata": {},
   "outputs": [],
   "source": [
    "\n",
    "quo7 =[]\n",
    "aut7 =[]\n",
    "typ7 =[]\n",
    "qt7 = driver.find_elements(By.XPATH,'//a[@class=\"title\"]')\n",
    "for i in qt7:\n",
    "    quo7.append(i.text)\n",
    "au7 = driver.find_elements(By.XPATH,'//div[@class=\"author\"]')\n",
    "for i in au7:\n",
    "    aut7.append(i.text)\n",
    "\n",
    "ty7 = driver.find_elements(By.XPATH,'//div[@class=\"tags\"]')\n",
    "for i in ty7:\n",
    "    typ7.append(i.text)"
   ]
  },
  {
   "cell_type": "code",
   "execution_count": null,
   "id": "1c4a9798",
   "metadata": {},
   "outputs": [],
   "source": []
  },
  {
   "cell_type": "code",
   "execution_count": 1070,
   "id": "6e1d1061",
   "metadata": {},
   "outputs": [],
   "source": [
    "quo8 =[]\n",
    "aut8 =[]\n",
    "typ8 =[]\n",
    "qt8 = driver.find_elements(By.XPATH,'//a[@class=\"title\"]')\n",
    "for i in qt8:\n",
    "    quo8.append(i.text)\n",
    "au8 = driver.find_elements(By.XPATH,'//div[@class=\"author\"]')\n",
    "for i in au8:\n",
    "    aut8.append(i.text)\n",
    "\n",
    "ty8 = driver.find_elements(By.XPATH,'//div[@class=\"tags\"]')\n",
    "for i in ty8:\n",
    "    typ8.append(i.text)"
   ]
  },
  {
   "cell_type": "code",
   "execution_count": null,
   "id": "3e190203",
   "metadata": {},
   "outputs": [],
   "source": []
  },
  {
   "cell_type": "code",
   "execution_count": 1072,
   "id": "933b6cd8",
   "metadata": {},
   "outputs": [
    {
     "data": {
      "text/plain": [
       "(100, 100, 100, 100, 100, 100, 100, 100, 100)"
      ]
     },
     "execution_count": 1072,
     "metadata": {},
     "output_type": "execute_result"
    }
   ],
   "source": [
    "len(quo),len(quo1),len(quo2),len(quo3),len(quo4),len(quo5),len(quo6),len(quo7),len(quo8)"
   ]
  },
  {
   "cell_type": "code",
   "execution_count": null,
   "id": "739f4443",
   "metadata": {},
   "outputs": [],
   "source": []
  },
  {
   "cell_type": "code",
   "execution_count": 1076,
   "id": "f10dc3d6",
   "metadata": {},
   "outputs": [],
   "source": [
    "#creating dataframe\n",
    "quote = quo+quo1+quo2+quo3+quo4+quo5+quo6+quo6a+quo7+quo8\n",
    "len(quote)\n",
    "author = aut+aut1+aut2+aut3+aut4+aut5+aut6+aut6a+aut7+aut8\n",
    "len(author)\n",
    "type_quote = typ+typ1+typ2+typ3+typ4+typ5+typ6+typ6a+typ7+typ8\n",
    "len(type_quote)\n",
    "\n",
    "top_100df =pd.DataFrame({'Quotes':quote,'Author':author,'Type of Quote':type_quote})"
   ]
  },
  {
   "cell_type": "code",
   "execution_count": 1077,
   "id": "8aa33502",
   "metadata": {},
   "outputs": [
    {
     "data": {
      "text/html": [
       "<div>\n",
       "<style scoped>\n",
       "    .dataframe tbody tr th:only-of-type {\n",
       "        vertical-align: middle;\n",
       "    }\n",
       "\n",
       "    .dataframe tbody tr th {\n",
       "        vertical-align: top;\n",
       "    }\n",
       "\n",
       "    .dataframe thead th {\n",
       "        text-align: right;\n",
       "    }\n",
       "</style>\n",
       "<table border=\"1\" class=\"dataframe\">\n",
       "  <thead>\n",
       "    <tr style=\"text-align: right;\">\n",
       "      <th></th>\n",
       "      <th>Quotes</th>\n",
       "      <th>Author</th>\n",
       "      <th>Type of Quote</th>\n",
       "    </tr>\n",
       "  </thead>\n",
       "  <tbody>\n",
       "    <tr>\n",
       "      <th>0</th>\n",
       "      <td>The essence of strategy is choosing what not t...</td>\n",
       "      <td>Michael Porter</td>\n",
       "      <td>Essence, Deep Thought, Transcendentalism</td>\n",
       "    </tr>\n",
       "    <tr>\n",
       "      <th>1</th>\n",
       "      <td>One cannot and must not try to erase the past ...</td>\n",
       "      <td>Golda Meir</td>\n",
       "      <td>Inspiration, Past, Trying</td>\n",
       "    </tr>\n",
       "    <tr>\n",
       "      <th>2</th>\n",
       "      <td>Patriotism means to stand by the country. It d...</td>\n",
       "      <td>Theodore Roosevelt</td>\n",
       "      <td>Country, Peace, War</td>\n",
       "    </tr>\n",
       "    <tr>\n",
       "      <th>3</th>\n",
       "      <td>Death is something inevitable. When a man has ...</td>\n",
       "      <td>Nelson Mandela</td>\n",
       "      <td>Inspirational, Motivational, Death</td>\n",
       "    </tr>\n",
       "    <tr>\n",
       "      <th>4</th>\n",
       "      <td>You have to love a nation that celebrates its ...</td>\n",
       "      <td>Erma Bombeck</td>\n",
       "      <td>4th Of July, Food, Patriotic</td>\n",
       "    </tr>\n",
       "    <tr>\n",
       "      <th>...</th>\n",
       "      <td>...</td>\n",
       "      <td>...</td>\n",
       "      <td>...</td>\n",
       "    </tr>\n",
       "    <tr>\n",
       "      <th>995</th>\n",
       "      <td>Regret for the things we did can be tempered b...</td>\n",
       "      <td>Sydney J. Harris</td>\n",
       "      <td>Love, Inspirational, Motivational</td>\n",
       "    </tr>\n",
       "    <tr>\n",
       "      <th>996</th>\n",
       "      <td>America... just a nation of two hundred millio...</td>\n",
       "      <td>Hunter S. Thompson</td>\n",
       "      <td>Gun, Two, Qualms About</td>\n",
       "    </tr>\n",
       "    <tr>\n",
       "      <th>997</th>\n",
       "      <td>For every disciplined effort there is a multip...</td>\n",
       "      <td>Jim Rohn</td>\n",
       "      <td>Inspirational, Greatness, Best Effort</td>\n",
       "    </tr>\n",
       "    <tr>\n",
       "      <th>998</th>\n",
       "      <td>The spiritual journey is individual, highly pe...</td>\n",
       "      <td>Ram Dass</td>\n",
       "      <td>Spiritual, Truth, Yoga</td>\n",
       "    </tr>\n",
       "    <tr>\n",
       "      <th>999</th>\n",
       "      <td>The mind is not a vessel to be filled but a fi...</td>\n",
       "      <td>Plutarch</td>\n",
       "      <td>Inspirational, Leadership, Education</td>\n",
       "    </tr>\n",
       "  </tbody>\n",
       "</table>\n",
       "<p>1000 rows × 3 columns</p>\n",
       "</div>"
      ],
      "text/plain": [
       "                                                Quotes              Author  \\\n",
       "0    The essence of strategy is choosing what not t...      Michael Porter   \n",
       "1    One cannot and must not try to erase the past ...          Golda Meir   \n",
       "2    Patriotism means to stand by the country. It d...  Theodore Roosevelt   \n",
       "3    Death is something inevitable. When a man has ...      Nelson Mandela   \n",
       "4    You have to love a nation that celebrates its ...        Erma Bombeck   \n",
       "..                                                 ...                 ...   \n",
       "995  Regret for the things we did can be tempered b...    Sydney J. Harris   \n",
       "996  America... just a nation of two hundred millio...  Hunter S. Thompson   \n",
       "997  For every disciplined effort there is a multip...            Jim Rohn   \n",
       "998  The spiritual journey is individual, highly pe...            Ram Dass   \n",
       "999  The mind is not a vessel to be filled but a fi...            Plutarch   \n",
       "\n",
       "                                Type of Quote  \n",
       "0    Essence, Deep Thought, Transcendentalism  \n",
       "1                   Inspiration, Past, Trying  \n",
       "2                         Country, Peace, War  \n",
       "3          Inspirational, Motivational, Death  \n",
       "4                4th Of July, Food, Patriotic  \n",
       "..                                        ...  \n",
       "995         Love, Inspirational, Motivational  \n",
       "996                    Gun, Two, Qualms About  \n",
       "997     Inspirational, Greatness, Best Effort  \n",
       "998                    Spiritual, Truth, Yoga  \n",
       "999      Inspirational, Leadership, Education  \n",
       "\n",
       "[1000 rows x 3 columns]"
      ]
     },
     "execution_count": 1077,
     "metadata": {},
     "output_type": "execute_result"
    }
   ],
   "source": [
    "top_100df"
   ]
  },
  {
   "cell_type": "code",
   "execution_count": 1131,
   "id": "ccad4bd0",
   "metadata": {},
   "outputs": [],
   "source": [
    "#question 9\n",
    "driver.get('https://www.jagranjosh.com/.')"
   ]
  },
  {
   "cell_type": "code",
   "execution_count": 1132,
   "id": "74308bf1",
   "metadata": {},
   "outputs": [],
   "source": [
    "find5 = driver.find_element(By.XPATH,'/html/body/div[1]/div[1]/div/div[1]/div/div[6]/div/div[1]/header/div[3]/ul/li[9]/a')\n",
    "find5.click()"
   ]
  },
  {
   "cell_type": "code",
   "execution_count": 1133,
   "id": "1c38e4e8",
   "metadata": {},
   "outputs": [],
   "source": [
    "find5 = driver.find_element(By.XPATH,'/html/body/div[1]/div/div/div[2]/div/div[10]/div/div/ul/li[2]/a')\n",
    "find5.click()"
   ]
  },
  {
   "cell_type": "code",
   "execution_count": 1224,
   "id": "41518351",
   "metadata": {},
   "outputs": [
    {
     "data": {
      "text/html": [
       "<div>\n",
       "<style scoped>\n",
       "    .dataframe tbody tr th:only-of-type {\n",
       "        vertical-align: middle;\n",
       "    }\n",
       "\n",
       "    .dataframe tbody tr th {\n",
       "        vertical-align: top;\n",
       "    }\n",
       "\n",
       "    .dataframe thead th {\n",
       "        text-align: right;\n",
       "    }\n",
       "</style>\n",
       "<table border=\"1\" class=\"dataframe\">\n",
       "  <thead>\n",
       "    <tr style=\"text-align: right;\">\n",
       "      <th></th>\n",
       "      <th>Name</th>\n",
       "      <th>Born-Dead</th>\n",
       "      <th>Term of office</th>\n",
       "      <th>Remark</th>\n",
       "    </tr>\n",
       "  </thead>\n",
       "  <tbody>\n",
       "    <tr>\n",
       "      <th>0</th>\n",
       "      <td>Gulzarilal Nanda (Acting)</td>\n",
       "      <td>(1898-1998)</td>\n",
       "      <td>27 May 1964 to 9 June 1964,13 days</td>\n",
       "      <td>First acting PM of India</td>\n",
       "    </tr>\n",
       "    <tr>\n",
       "      <th>1</th>\n",
       "      <td>Gulzari Lal Nanda  (Acting)</td>\n",
       "      <td>(1898-1998)</td>\n",
       "      <td>11 January 1966 to 24 January 196613 days</td>\n",
       "      <td>-</td>\n",
       "    </tr>\n",
       "    <tr>\n",
       "      <th>2</th>\n",
       "      <td>Indira Gandhi</td>\n",
       "      <td>(1917–1984)</td>\n",
       "      <td>24 January 1966 to 24 March 197711 years, 59 days</td>\n",
       "      <td>First female Prime Minister of India</td>\n",
       "    </tr>\n",
       "    <tr>\n",
       "      <th>3</th>\n",
       "      <td>Charan Singh</td>\n",
       "      <td>(1902–1987)</td>\n",
       "      <td>28 July 1979 to 14 January 1980170 days</td>\n",
       "      <td>Only PM who did not face the Parliament</td>\n",
       "    </tr>\n",
       "    <tr>\n",
       "      <th>4</th>\n",
       "      <td>Rajiv Gandhi</td>\n",
       "      <td>(1944–1991)</td>\n",
       "      <td>31 October 1984 to 2 December 19895 years, 32 ...</td>\n",
       "      <td>Youngest to become PM (40 years old)</td>\n",
       "    </tr>\n",
       "    <tr>\n",
       "      <th>5</th>\n",
       "      <td>P. V. Narasimha Rao</td>\n",
       "      <td>(1921–2004)</td>\n",
       "      <td>21 June 1991 to 16 May 19964 years, 330 days</td>\n",
       "      <td>First PM from south India</td>\n",
       "    </tr>\n",
       "    <tr>\n",
       "      <th>6</th>\n",
       "      <td>Atal Bihari Vajpayee</td>\n",
       "      <td>(1924- 2018)</td>\n",
       "      <td>16 May 1996 to 1 June 199616 days</td>\n",
       "      <td>PM for shortest tenure</td>\n",
       "    </tr>\n",
       "    <tr>\n",
       "      <th>7</th>\n",
       "      <td>H. D. Deve Gowda</td>\n",
       "      <td>(born 1933)</td>\n",
       "      <td>1 June 1996 to 21 April 1997324 days</td>\n",
       "      <td>He belongs to  Janata Dal</td>\n",
       "    </tr>\n",
       "    <tr>\n",
       "      <th>8</th>\n",
       "      <td>Inder Kumar Gujral</td>\n",
       "      <td>(1919–2012)</td>\n",
       "      <td>21 April 1997 to 19 March 1998 332 days</td>\n",
       "      <td>------</td>\n",
       "    </tr>\n",
       "    <tr>\n",
       "      <th>9</th>\n",
       "      <td>Manmohan Singh</td>\n",
       "      <td>(born 1932)</td>\n",
       "      <td>22 May 2004 to 26 May 2014   10 years, 4 days</td>\n",
       "      <td>First Sikh PM</td>\n",
       "    </tr>\n",
       "    <tr>\n",
       "      <th>10</th>\n",
       "      <td>Jawahar Lal Nehru</td>\n",
       "      <td>(1889–1964)</td>\n",
       "      <td>15 August 1947 to 27 May 1964\\n16 years, 286 days</td>\n",
       "      <td>The first prime minister of India and the long...</td>\n",
       "    </tr>\n",
       "    <tr>\n",
       "      <th>11</th>\n",
       "      <td>Lal Bahadur Shastri</td>\n",
       "      <td>(1904–1966)</td>\n",
       "      <td>9 June 1964 to 11 January 1966\\n1 year, 216 days</td>\n",
       "      <td>He has given the slogan of 'Jai Jawan Jai Kisa...</td>\n",
       "    </tr>\n",
       "    <tr>\n",
       "      <th>12</th>\n",
       "      <td>Morarji Desai</td>\n",
       "      <td>(1896–1995)</td>\n",
       "      <td>24 March 1977 to  28 July 1979 \\n2 year, 126 days</td>\n",
       "      <td>Oldest to become PM (81 years old) and first t...</td>\n",
       "    </tr>\n",
       "    <tr>\n",
       "      <th>13</th>\n",
       "      <td>Atal Bihari Vajpayee</td>\n",
       "      <td>(1924-2018)</td>\n",
       "      <td>19 March 1998 to 22 May 2004 \\n6 years, 64 days</td>\n",
       "      <td>The first non-congress PM who completed a ful...</td>\n",
       "    </tr>\n",
       "    <tr>\n",
       "      <th>14</th>\n",
       "      <td>Narendra Modi</td>\n",
       "      <td>(born 1950)</td>\n",
       "      <td>26 May 2014 - Present</td>\n",
       "      <td>4th Prime Minister of India who served two con...</td>\n",
       "    </tr>\n",
       "    <tr>\n",
       "      <th>15</th>\n",
       "      <td>V. P. Singh</td>\n",
       "      <td>(1931–2008)</td>\n",
       "      <td>2 December 1989 to 10 November 1990\\n343 days</td>\n",
       "      <td>First PM to step down after a vote of no confi...</td>\n",
       "    </tr>\n",
       "    <tr>\n",
       "      <th>16</th>\n",
       "      <td>Indira Gandhi</td>\n",
       "      <td>(1917–1984)</td>\n",
       "      <td>14 January 1980 to 31 October 1984\\n4 years, 2...</td>\n",
       "      <td>The first lady who served as PM for the second...</td>\n",
       "    </tr>\n",
       "    <tr>\n",
       "      <th>17</th>\n",
       "      <td>Chandra Shekhar</td>\n",
       "      <td>(1927–2007)</td>\n",
       "      <td>10 November 1990 to 21 June 1991\\n223 days</td>\n",
       "      <td>He belongs to  Samajwadi Janata Party</td>\n",
       "    </tr>\n",
       "  </tbody>\n",
       "</table>\n",
       "</div>"
      ],
      "text/plain": [
       "                           Name     Born-Dead  \\\n",
       "0     Gulzarilal Nanda (Acting)   (1898-1998)   \n",
       "1   Gulzari Lal Nanda  (Acting)   (1898-1998)   \n",
       "2                 Indira Gandhi   (1917–1984)   \n",
       "3                  Charan Singh   (1902–1987)   \n",
       "4                  Rajiv Gandhi   (1944–1991)   \n",
       "5           P. V. Narasimha Rao   (1921–2004)   \n",
       "6          Atal Bihari Vajpayee  (1924- 2018)   \n",
       "7              H. D. Deve Gowda   (born 1933)   \n",
       "8            Inder Kumar Gujral   (1919–2012)   \n",
       "9                Manmohan Singh   (born 1932)   \n",
       "10            Jawahar Lal Nehru   (1889–1964)   \n",
       "11          Lal Bahadur Shastri   (1904–1966)   \n",
       "12                Morarji Desai   (1896–1995)   \n",
       "13         Atal Bihari Vajpayee   (1924-2018)   \n",
       "14                Narendra Modi   (born 1950)   \n",
       "15                  V. P. Singh   (1931–2008)   \n",
       "16                Indira Gandhi   (1917–1984)   \n",
       "17              Chandra Shekhar   (1927–2007)   \n",
       "\n",
       "                                       Term of office  \\\n",
       "0                  27 May 1964 to 9 June 1964,13 days   \n",
       "1           11 January 1966 to 24 January 196613 days   \n",
       "2   24 January 1966 to 24 March 197711 years, 59 days   \n",
       "3             28 July 1979 to 14 January 1980170 days   \n",
       "4   31 October 1984 to 2 December 19895 years, 32 ...   \n",
       "5        21 June 1991 to 16 May 19964 years, 330 days   \n",
       "6                   16 May 1996 to 1 June 199616 days   \n",
       "7                1 June 1996 to 21 April 1997324 days   \n",
       "8             21 April 1997 to 19 March 1998 332 days   \n",
       "9       22 May 2004 to 26 May 2014   10 years, 4 days   \n",
       "10  15 August 1947 to 27 May 1964\\n16 years, 286 days   \n",
       "11   9 June 1964 to 11 January 1966\\n1 year, 216 days   \n",
       "12  24 March 1977 to  28 July 1979 \\n2 year, 126 days   \n",
       "13    19 March 1998 to 22 May 2004 \\n6 years, 64 days   \n",
       "14                              26 May 2014 - Present   \n",
       "15      2 December 1989 to 10 November 1990\\n343 days   \n",
       "16  14 January 1980 to 31 October 1984\\n4 years, 2...   \n",
       "17         10 November 1990 to 21 June 1991\\n223 days   \n",
       "\n",
       "                                               Remark  \n",
       "0                            First acting PM of India  \n",
       "1                                                   -  \n",
       "2                First female Prime Minister of India  \n",
       "3             Only PM who did not face the Parliament  \n",
       "4                Youngest to become PM (40 years old)  \n",
       "5                           First PM from south India  \n",
       "6                              PM for shortest tenure  \n",
       "7                           He belongs to  Janata Dal  \n",
       "8                                              ------  \n",
       "9                                       First Sikh PM  \n",
       "10  The first prime minister of India and the long...  \n",
       "11  He has given the slogan of 'Jai Jawan Jai Kisa...  \n",
       "12  Oldest to become PM (81 years old) and first t...  \n",
       "13   The first non-congress PM who completed a ful...  \n",
       "14  4th Prime Minister of India who served two con...  \n",
       "15  First PM to step down after a vote of no confi...  \n",
       "16  The first lady who served as PM for the second...  \n",
       "17              He belongs to  Samajwadi Janata Party  "
      ]
     },
     "execution_count": 1224,
     "metadata": {},
     "output_type": "execute_result"
    }
   ],
   "source": [
    "first = []\n",
    "Mname =[]\n",
    "year = []\n",
    "termO =[]\n",
    "remark =[]\n",
    "nam =[]\n",
    "table = driver.find_elements(By.XPATH,'/html/body/div/div[2]/div/div[2]/div/div[1]/div/div/div/div[4]/span/div[2]/table/tbody/tr[2]/td[2]/p/strong/a')\n",
    "for i in table:\n",
    "    first.append(i.text.replace('\\n',\"\"))\n",
    "    \n",
    "table2 = driver.find_elements(By.XPATH, '//td[@style=\"width: 150px; height: 80px;\"]')\n",
    "for i in table2:\n",
    "    Mname.append(i.text.replace('\\n',\"\"))\n",
    "    \n",
    "table3 = driver.find_elements(By.XPATH,'//td[@style=\"width: 105px; height: 80px;\"]')\n",
    "for i in table3:\n",
    "    year.append(i.text)\n",
    "\n",
    "table4 = driver.find_elements(By.XPATH, '//td[@style=\"width: 256px; height: 80px;\"]')\n",
    "for i in table4:\n",
    "    termO.append(i.text.replace('\\n',\"\"))\n",
    "table4 = driver.find_elements(By.XPATH,'//td[@style=\"width: 145px; height: 80px;\"]')\n",
    "for i in table4:\n",
    "    remark.append(i.text.replace('\\n',\"\"))\n",
    "\n",
    "table5 = driver.find_elements(By.XPATH, '//td[@style=\"width: 150px; height: 121px;\"]')\n",
    "for i in table5:\n",
    "    Mname.append(i.text)\n",
    "    \n",
    "table6 = driver.find_elements(By.XPATH, '//td[@style=\"width: 105px; height: 121px;\"]')\n",
    "for i in table6:\n",
    "    year.append(i.text)\n",
    "    \n",
    "table7 = driver.find_elements(By.XPATH, '//td[@style=\"width: 150px; height: 104px;\"]')\n",
    "for i in table7:\n",
    "    Mname.append(i.text)\n",
    "\n",
    "table8 = driver.find_elements(By.XPATH, '//td[@style=\"width: 105px; height: 104px;\"]')\n",
    "for i in table8:\n",
    "    year.append(i.text)\n",
    "\n",
    "table9 = driver.find_elements(By.XPATH, '//td[@style=\"width: 256px; height: 121px;\"]')\n",
    "for i in table9:\n",
    "    termO.append(i.text)\n",
    "    \n",
    "table10 = driver.find_elements(By.XPATH, '//td[@style=\"width: 256px; height: 104px;\"]')\n",
    "for i in table10:\n",
    "    termO.append(i.text)\n",
    "    \n",
    "table11 = driver.find_elements(By.XPATH, '//td[@style=\"width: 145px; height: 121px;\"]')\n",
    "for i in table11:\n",
    "    remark.append(i.text.replace('\\n',\"\"))\n",
    "    \n",
    "table12 = driver.find_elements(By.XPATH, '//td[@style=\"width: 145px; height: 104px;\"]')\n",
    "for i in table12:\n",
    "    remark.append(i.text.replace('\\n',\"\"))\n",
    "\n",
    "ta = driver.find_elements(By.XPATH, '//td[@style=\"width: 150px; height: 97px;\"]')\n",
    "for i in ta:\n",
    "    Mname.append(i.text)\n",
    "ta1 = driver.find_elements(By.XPATH, '//td[@style=\"width: 105px; height: 97px;\"]')\n",
    "for i in ta1:\n",
    "    year.append(i.text)\n",
    "ta2 = driver.find_elements(By.XPATH, '//td[@style=\"width: 256px; height: 97px;\"]')\n",
    "for i in ta2:\n",
    "    termO.append(i.text)\n",
    "ta3 = driver.find_elements(By.XPATH, '//td[@style=\"width: 145px; height: 97px;\"]')\n",
    "for i in ta3:\n",
    "    remark.append(i.text)\n",
    "ta4 = driver.find_elements(By.XPATH, '//td[@style=\"width: 150px; height: 87px;\"]')\n",
    "for i in ta4:\n",
    "    Mname.append(i.text)\n",
    "ta5 = driver.find_elements(By.XPATH, '//td[@style=\"width: 105px; height: 87px;\"]')\n",
    "for i in ta5:\n",
    "    year.append(i.text)\n",
    "    \n",
    "ta6 = driver.find_elements(By.XPATH, '//td[@style=\"width: 256px; height: 87px;\"]')\n",
    "for i in ta6:\n",
    "    termO.append(i.text)\n",
    "    \n",
    "ta7 = driver.find_elements(By.XPATH, '//td[@style=\"width: 145px; height: 87px;\"]')\n",
    "for i in ta7:\n",
    "    remark.append(i.text)\n",
    "    \n",
    "len(remark),len(Mname),len(termO),len(year)\n",
    "\n",
    "minister_df = pd.DataFrame({'Name':Mname,'Born-Dead':year,'Term of office':termO,'Remark':remark})\n",
    "minister_df"
   ]
  },
  {
   "cell_type": "code",
   "execution_count": 1225,
   "id": "56f1ed72",
   "metadata": {},
   "outputs": [],
   "source": [
    "#q10\n",
    "driver.get('https://www.motor1.com/')"
   ]
  },
  {
   "cell_type": "code",
   "execution_count": 1216,
   "id": "101642c7",
   "metadata": {},
   "outputs": [
    {
     "data": {
      "text/plain": [
       "['Gulzarilal Nanda (Acting)',\n",
       " 'Gulzari Lal Nanda  (Acting)',\n",
       " 'Indira Gandhi',\n",
       " 'Charan Singh',\n",
       " 'Rajiv Gandhi',\n",
       " 'P. V. Narasimha Rao',\n",
       " 'Atal Bihari Vajpayee',\n",
       " 'H. D. Deve Gowda',\n",
       " 'Inder Kumar Gujral',\n",
       " 'Manmohan Singh',\n",
       " 'Jawahar Lal Nehru',\n",
       " 'Lal Bahadur Shastri',\n",
       " 'Morarji Desai',\n",
       " 'Atal Bihari Vajpayee',\n",
       " 'Narendra Modi',\n",
       " 'V. P. Singh',\n",
       " 'Indira Gandhi',\n",
       " 'Chandra Shekhar']"
      ]
     },
     "execution_count": 1216,
     "metadata": {},
     "output_type": "execute_result"
    }
   ],
   "source": [
    "Mname"
   ]
  },
  {
   "cell_type": "code",
   "execution_count": 1179,
   "id": "f7d407b5",
   "metadata": {},
   "outputs": [
    {
     "data": {
      "text/plain": [
       "15"
      ]
     },
     "execution_count": 1179,
     "metadata": {},
     "output_type": "execute_result"
    }
   ],
   "source": [
    "len(year)"
   ]
  },
  {
   "cell_type": "code",
   "execution_count": null,
   "id": "4f32db04",
   "metadata": {},
   "outputs": [],
   "source": []
  }
 ],
 "metadata": {
  "kernelspec": {
   "display_name": "Python 3 (ipykernel)",
   "language": "python",
   "name": "python3"
  },
  "language_info": {
   "codemirror_mode": {
    "name": "ipython",
    "version": 3
   },
   "file_extension": ".py",
   "mimetype": "text/x-python",
   "name": "python",
   "nbconvert_exporter": "python",
   "pygments_lexer": "ipython3",
   "version": "3.9.12"
  }
 },
 "nbformat": 4,
 "nbformat_minor": 5
}
